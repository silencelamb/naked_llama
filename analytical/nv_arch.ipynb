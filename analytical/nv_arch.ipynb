{
 "cells": [
  {
   "cell_type": "code",
   "execution_count": 9,
   "metadata": {},
   "outputs": [
    {
     "name": "stdout",
     "output_type": "stream",
     "text": [
      "V100: 125.3 TFlops\n"
     ]
    }
   ],
   "source": [
    "MHz = 1e6\n",
    "TFlops = 1e12\n",
    "# V100 SXM3\n",
    "clock = 1530 * MHz\n",
    "matrix_shape = 8 * 8 * 8\n",
    "cycle = 8\n",
    "SM = 80\n",
    "tensor_core = 8\n",
    "theory_compute = matrix_shape * 2 *SM * tensor_core*clock/cycle/TFlops\n",
    "print(f'V100: {theory_compute:.1f} TFlops')"
   ]
  },
  {
   "cell_type": "code",
   "execution_count": null,
   "metadata": {},
   "outputs": [
    {
     "name": "stdout",
     "output_type": "stream",
     "text": [
      "A100: 311.9 TFlops\n"
     ]
    }
   ],
   "source": [
    "# A100 SXM4\n",
    "# https://ieeexplore.ieee.org/document/9931992/\n",
    "# http://arxiv.org/abs/2208.11174\n",
    "clock = 1410 * MHz\n",
    "compute = 312 * TFlops\n",
    "matrix_shape = 16 * 8 * 16\n",
    "cycle = 8\n",
    "SM = 108\n",
    "tensor_core = 4\n",
    "theory_compute = matrix_shape * 2 *SM * tensor_core*clock/cycle/TFlops\n",
    "print(f'A100: {theory_compute:.1f} TFlops')"
   ]
  },
  {
   "cell_type": "code",
   "execution_count": 11,
   "metadata": {},
   "outputs": [
    {
     "data": {
      "text/plain": [
       "307.575144"
      ]
     },
     "execution_count": 11,
     "metadata": {},
     "output_type": "execute_result"
    }
   ],
   "source": [
    "2019.8 * 108 * 1410 * MHz / TFlops"
   ]
  },
  {
   "cell_type": "code",
   "execution_count": null,
   "metadata": {},
   "outputs": [
    {
     "name": "stdout",
     "output_type": "stream",
     "text": [
      "H100: 989.4TFlops\n"
     ]
    }
   ],
   "source": [
    "# H100 SXM5\n",
    "# http://arxiv.org/abs/2402.13499\n",
    "# https://docs.nvidia.com/cuda/parallel-thread-execution/index.html#asynchronous-warpgroup-level-matrix-shape\n",
    "# https://research.colfax-intl.com/cutlass-tutorial-wgmma-hopper/\n",
    "# MxNxK are the tile sizes that the wgmma instruction computes with — the “wgmma atom”. Not all values of MxNxK are possible. \n",
    "# Here is the list of allowed shapes: M is always 64, N is a multiple of 8 from 8 to 256, and for 16-bit operand datatype, K is 16 (more generally, K is fixed to be 32 bytes).\n",
    "clock = 1830 * MHz\n",
    "matrix_shape = 64 * 64 * 16\n",
    "cycle = 32\n",
    "SM = 132\n",
    "tensor_core = 1\n",
    "theory_compute = 2 * matrix_shape  *SM * tensor_core * clock/cycle/TFlops\n",
    "print(f'H100: {theory_compute:.1f}TFlops')"
   ]
  }
 ],
 "metadata": {
  "kernelspec": {
   "display_name": "base",
   "language": "python",
   "name": "python3"
  },
  "language_info": {
   "codemirror_mode": {
    "name": "ipython",
    "version": 3
   },
   "file_extension": ".py",
   "mimetype": "text/x-python",
   "name": "python",
   "nbconvert_exporter": "python",
   "pygments_lexer": "ipython3",
   "version": "3.12.7"
  }
 },
 "nbformat": 4,
 "nbformat_minor": 2
}
